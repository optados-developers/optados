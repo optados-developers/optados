{
 "metadata": {
  "name": ""
 },
 "nbformat": 3,
 "nbformat_minor": 0,
 "worksheets": [
  {
   "cells": [
    {
     "cell_type": "markdown",
     "metadata": {},
     "source": [
      "OptaPyDOS example\n",
      "=================\n",
      "From those great kids that brought you OptaDOS.\n",
      "\n",
      "And J. Kermode, a gentleman."
     ]
    },
    {
     "cell_type": "code",
     "collapsed": false,
     "input": [
      "import OptaPyDOS as opd;\n",
      "import matplotlib.pyplot as plt;\n",
      "import numpy as np"
     ],
     "language": "python",
     "metadata": {},
     "outputs": [],
     "prompt_number": 1
    },
    {
     "cell_type": "code",
     "collapsed": false,
     "input": [
      "print \" OptaDOS version:\", opd.od_constants.optados_version"
     ],
     "language": "python",
     "metadata": {},
     "outputs": [
      {
       "output_type": "stream",
       "stream": "stdout",
       "text": [
        " OptaDOS version:  1.2  \n"
       ]
      }
     ],
     "prompt_number": 2
    },
    {
     "cell_type": "markdown",
     "metadata": {},
     "source": [
      "`od_setup_from_file` is a function to initilaise OptaPyDOS"
     ]
    },
    {
     "cell_type": "code",
     "collapsed": false,
     "input": [
      "def od_setup_from_file(seedname):\n",
      "    import OptaPyDOS as opd\n",
      "    opd.od_comms.comms_setup()\n",
      "    opd.od_parameters.iprint=3\n",
      "    opd.od_io.seedname=seedname\n",
      "    print \" Filename:\", opd.od_io.seedname\n",
      "    opd.od_parameters.param_read()\n",
      "    opd.od_parameters.param_write_header()\n",
      "    opd.od_parameters.param_write()\n",
      "    opd.od_electronic.elec_read_band_energy()\n",
      "    opd.od_cell.cell_calc_lattice()\n",
      "    #pd.od_parameters.param_write_atomic_coord()\n",
      "    opd.od_cell.cell_report_parameters()\n",
      "    opd.od_electronic.elec_report_parameters()\n",
      "    opd.od_parameters.param_dist()\n",
      "    opd.od_cell.cell_dist()"
     ],
     "language": "python",
     "metadata": {},
     "outputs": [],
     "prompt_number": 3
    },
    {
     "cell_type": "code",
     "collapsed": false,
     "input": [
      "# od_setup_from_file('./test/PbI-Phase1-cubic')"
     ],
     "language": "python",
     "metadata": {},
     "outputs": [],
     "prompt_number": 4
    },
    {
     "cell_type": "code",
     "collapsed": false,
     "input": [
      "od_setup_from_file('Si2_OPTICS')"
     ],
     "language": "python",
     "metadata": {},
     "outputs": [
      {
       "output_type": "stream",
       "stream": "stdout",
       "text": [
        " Filename: Si2_OPTICS                                        \n"
       ]
      }
     ],
     "prompt_number": 5
    },
    {
     "cell_type": "markdown",
     "metadata": {},
     "source": [
      "One may then tweak the input parameters."
     ]
    },
    {
     "cell_type": "code",
     "collapsed": false,
     "input": [
      "opd.od_parameters.dos_spacing=0.01"
     ],
     "language": "python",
     "metadata": {},
     "outputs": [],
     "prompt_number": 6
    },
    {
     "cell_type": "code",
     "collapsed": false,
     "input": [
      "opd.od_comms.my_node_id"
     ],
     "language": "python",
     "metadata": {},
     "outputs": [
      {
       "metadata": {},
       "output_type": "pyout",
       "prompt_number": 7,
       "text": [
        "0"
       ]
      }
     ],
     "prompt_number": 7
    },
    {
     "cell_type": "markdown",
     "metadata": {},
     "source": [
      "But there's something odd with reading in the `.ome` file. For some reason it says EOF when it reaches the header.\n",
      "Could it be that gfortran OptaDOS won't read ifort binary?"
     ]
    },
    {
     "cell_type": "code",
     "collapsed": false,
     "input": [
      "opd.od_parameters.iprint=3\n",
      "    "
     ],
     "language": "python",
     "metadata": {},
     "outputs": [],
     "prompt_number": 8
    },
    {
     "cell_type": "code",
     "collapsed": false,
     "input": [
      "opd.od_parameters.iprint"
     ],
     "language": "python",
     "metadata": {},
     "outputs": [
      {
       "metadata": {},
       "output_type": "pyout",
       "prompt_number": 9,
       "text": [
        "3"
       ]
      }
     ],
     "prompt_number": 9
    },
    {
     "cell_type": "code",
     "collapsed": false,
     "input": [
      "opd.od_pdos.pdos_calculate()"
     ],
     "language": "python",
     "metadata": {},
     "outputs": [],
     "prompt_number": "*"
    },
    {
     "cell_type": "code",
     "collapsed": false,
     "input": [
      "opd.od_electronic.elec_read_optical_mat()"
     ],
     "language": "python",
     "metadata": {},
     "outputs": [],
     "prompt_number": "*"
    },
    {
     "cell_type": "code",
     "collapsed": false,
     "input": [
      "opd.od_electronic.elec_read_band_gradient()"
     ],
     "language": "python",
     "metadata": {},
     "outputs": [],
     "prompt_number": "*"
    },
    {
     "cell_type": "code",
     "collapsed": false,
     "input": [
      "opd.od_dos_utils.dos_utils_calcute()"
     ],
     "language": "python",
     "metadata": {},
     "outputs": [],
     "prompt_number": "*"
    },
    {
     "cell_type": "code",
     "collapsed": false,
     "input": [
      "a=opd.od_dos_utils.dos_fixed"
     ],
     "language": "python",
     "metadata": {},
     "outputs": [],
     "prompt_number": 21
    },
    {
     "cell_type": "code",
     "collapsed": false,
     "input": [
      "e=opd.od_dos_utils.e"
     ],
     "language": "python",
     "metadata": {},
     "outputs": [],
     "prompt_number": 22
    },
    {
     "cell_type": "code",
     "collapsed": false,
     "input": [
      "print "
     ],
     "language": "python",
     "metadata": {},
     "outputs": [
      {
       "output_type": "stream",
       "stream": "stdout",
       "text": [
        "\n"
       ]
      }
     ],
     "prompt_number": 21
    },
    {
     "cell_type": "code",
     "collapsed": false,
     "input": [
      "plt.plot(e,a);"
     ],
     "language": "python",
     "metadata": {},
     "outputs": [],
     "prompt_number": 23
    },
    {
     "cell_type": "code",
     "collapsed": false,
     "input": [
      "plt.show()"
     ],
     "language": "python",
     "metadata": {},
     "outputs": [],
     "prompt_number": 24
    },
    {
     "cell_type": "code",
     "collapsed": false,
     "input": [
      "Ef=opd.od_electronic.efermi_castep"
     ],
     "language": "python",
     "metadata": {},
     "outputs": [],
     "prompt_number": 32
    },
    {
     "cell_type": "code",
     "collapsed": false,
     "input": [
      "print Ef"
     ],
     "language": "python",
     "metadata": {},
     "outputs": [
      {
       "output_type": "stream",
       "stream": "stdout",
       "text": [
        "-1.59730820728\n"
       ]
      }
     ],
     "prompt_number": 33
    },
    {
     "cell_type": "code",
     "collapsed": false,
     "input": [
      "opd.od_dos_utils.dos_utils_set_efermi()"
     ],
     "language": "python",
     "metadata": {},
     "outputs": [],
     "prompt_number": "*"
    },
    {
     "cell_type": "code",
     "collapsed": false,
     "input": [],
     "language": "python",
     "metadata": {},
     "outputs": []
    }
   ],
   "metadata": {}
  }
 ]
}