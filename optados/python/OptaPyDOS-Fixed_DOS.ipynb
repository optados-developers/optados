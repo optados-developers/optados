{
 "metadata": {
  "name": ""
 },
 "nbformat": 3,
 "nbformat_minor": 0,
 "worksheets": [
  {
   "cells": [
    {
     "cell_type": "markdown",
     "metadata": {},
     "source": [
      "OptaPyDOS example -- Fixed_DOS\n",
      "==============================\n",
      "From those great kids that brought you OptaDOS and J. Kermode, a gentleman.\n",
      "\n",
      "Prerequisites:\n",
      "\n",
      "* OptaDOS complied using gfortran. `make`\n",
      "* OptaPyDOS python libraries. `make python`\n",
      "* CASTEP run in optados/eaxmples/Si2_DOS. `castep Si2`"
     ]
    },
    {
     "cell_type": "code",
     "collapsed": false,
     "input": [
      "%matplotlib inline\n",
      "import OptaPyDOS as opd;\n",
      "import matplotlib.pyplot as plt;\n",
      "import numpy as np"
     ],
     "language": "python",
     "metadata": {},
     "outputs": [],
     "prompt_number": 1
    },
    {
     "cell_type": "code",
     "collapsed": false,
     "input": [
      "print \" OptaDOS version:\", opd.od_constants.optados_version"
     ],
     "language": "python",
     "metadata": {},
     "outputs": [
      {
       "output_type": "stream",
       "stream": "stdout",
       "text": [
        " OptaDOS version:  1.2  \n"
       ]
      }
     ],
     "prompt_number": 2
    },
    {
     "cell_type": "markdown",
     "metadata": {},
     "source": [
      "`od_setup_from_file` is a function to initilaise OptaPyDOS"
     ]
    },
    {
     "cell_type": "code",
     "collapsed": false,
     "input": [
      "def od_setup_from_file(seedname):\n",
      "    import OptaPyDOS as opd\n",
      "    opd.od_comms.comms_setup()\n",
      "    opd.od_io.seedname=seedname\n",
      "    print \" Filename:\", opd.od_io.seedname\n",
      "    opd.od_parameters.param_read()\n",
      "    opd.od_parameters.param_write_header()\n",
      "    opd.od_parameters.param_write()\n",
      "    opd.od_electronic.elec_read_band_energy()\n",
      "    opd.od_cell.cell_calc_lattice()\n",
      "    opd.od_cell.cell_report_parameters()\n",
      "    opd.od_electronic.elec_report_parameters()\n",
      "    opd.od_parameters.param_dist()\n",
      "    opd.od_cell.cell_dist()"
     ],
     "language": "python",
     "metadata": {},
     "outputs": [],
     "prompt_number": 3
    },
    {
     "cell_type": "code",
     "collapsed": false,
     "input": [
      "od_setup_from_file('../examples/Si2_DOS/Si2')"
     ],
     "language": "python",
     "metadata": {},
     "outputs": [
      {
       "output_type": "stream",
       "stream": "stdout",
       "text": [
        " Filename: ../examples/Si2_DOS/Si2                           \n"
       ]
      }
     ],
     "prompt_number": 4
    },
    {
     "cell_type": "markdown",
     "metadata": {},
     "source": [
      "One may then tweak the input parameters."
     ]
    },
    {
     "cell_type": "code",
     "collapsed": false,
     "input": [
      "opd.od_parameters.dos_spacing=0.01"
     ],
     "language": "python",
     "metadata": {},
     "outputs": [],
     "prompt_number": 5
    },
    {
     "cell_type": "markdown",
     "metadata": {},
     "source": [
      "Switch off adaptive smearing and switch on fixed."
     ]
    },
    {
     "cell_type": "code",
     "collapsed": false,
     "input": [
      "opd.od_parameters.adaptive=0\n",
      "opd.od_parameters.fixed=1"
     ],
     "language": "python",
     "metadata": {},
     "outputs": [],
     "prompt_number": 16
    },
    {
     "cell_type": "code",
     "collapsed": false,
     "input": [
      "opd.od_parameters.iprint=3"
     ],
     "language": "python",
     "metadata": {},
     "outputs": [],
     "prompt_number": 17
    },
    {
     "cell_type": "markdown",
     "metadata": {},
     "source": [
      "Now all set up call the routine to calculate the DOS."
     ]
    },
    {
     "cell_type": "code",
     "collapsed": false,
     "input": [
      "opd.od_dos_utils.dos_utils_calculate()"
     ],
     "language": "python",
     "metadata": {},
     "outputs": [],
     "prompt_number": 18
    },
    {
     "cell_type": "code",
     "collapsed": false,
     "input": [
      "plt.plot(opd.od_dos_utils.e,opd.od_dos_utils.dos_fixed);"
     ],
     "language": "python",
     "metadata": {},
     "outputs": [
      {
       "metadata": {},
       "output_type": "display_data",
       "png": "[encoded data removed]",
       "text": [
        "<matplotlib.figure.Figure at 0x4f59650>"
       ]
      }
     ],
     "prompt_number": 19
    },
    {
     "cell_type": "code",
     "collapsed": false,
     "input": [],
     "language": "python",
     "metadata": {},
     "outputs": []
    }
   ],
   "metadata": {}
  }
 ]
}