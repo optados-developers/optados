{
 "cells": [
  {
   "cell_type": "markdown",
   "metadata": {},
   "source": [
    "OptaPyDOS example - Joint Density of States of Silicon\n",
    "=============================\n",
    "From those great kids that brought you OptaDOS and J. Kermode, a gentleman.\n",
    "\n",
    "Prerequisites:\n",
    "\n",
    "* OptaDOS complied using gfortran. `make`\n",
    "* OptaPyDOS python libraries. `make python`\n",
    "* CASTEP run in optados/eaxmples/Si2_JDOS. `castep Si2`\n",
    "* OptaPyDOS_Tools which should be found in `optados/python`"
   ]
  },
  {
   "cell_type": "code",
   "execution_count": 14,
   "metadata": {
    "collapsed": false
   },
   "outputs": [],
   "source": [
    "import os\n",
    "os.environ['GFORTRAN_CONVERT_UNIT'] = 'big_endian' # Must do this BEOFRE invoking OptaPyDOS\n",
    "%matplotlib inline\n",
    "import OptaPyDOS as opd        # OptaPyDOS Low level functions\n",
    "import OptaPyDOS_Tools as opdt # OptaPyDOS wrapper scripts\n",
    "import matplotlib.pyplot as plt\n",
    "import numpy as np"
   ]
  },
  {
   "cell_type": "markdown",
   "metadata": {},
   "source": [
    "Let's do something obvious and check that both modules are set up ok."
   ]
  },
  {
   "cell_type": "code",
   "execution_count": 15,
   "metadata": {
    "collapsed": false
   },
   "outputs": [
    {
     "name": "stdout",
     "output_type": "stream",
     "text": [
      " OptaDOS version:  1.2  \n",
      " OptaPyDOS Tools version: 1.0\n"
     ]
    }
   ],
   "source": [
    "print \" OptaDOS version:\", opd.od_constants.optados_version\n",
    "print \" OptaPyDOS Tools version:\", opdt.od_OptaPyDOS_tools_version"
   ]
  },
  {
   "cell_type": "markdown",
   "metadata": {},
   "source": [
    "If you managed two get to version numbers printed out above then you have `opd` and `opdt` working. Now lets read in an `odi` file using `od_setup_from_file` is a function to initilaise OptaPyDOS"
   ]
  },
  {
   "cell_type": "code",
   "execution_count": 16,
   "metadata": {
    "collapsed": false
   },
   "outputs": [
    {
     "name": "stdout",
     "output_type": "stream",
     "text": [
      " OptaPyDOS Tools -- Setup Calculation from Seedname\n",
      " Seedname: ../examples/Si2_JDOS/Si2                          \n"
     ]
    }
   ],
   "source": [
    "opdt.od_setup_from_file('../examples/Si2_JDOS/Si2')"
   ]
  },
  {
   "cell_type": "markdown",
   "metadata": {},
   "source": [
    "One may then tweak the input parameters."
   ]
  },
  {
   "cell_type": "code",
   "execution_count": 17,
   "metadata": {
    "collapsed": false
   },
   "outputs": [],
   "source": [
    "opd.od_parameters.dos_spacing=0.1"
   ]
  },
  {
   "cell_type": "markdown",
   "metadata": {},
   "source": [
    "We might as well do all three types of smearing"
   ]
  },
  {
   "cell_type": "code",
   "execution_count": 18,
   "metadata": {
    "collapsed": false
   },
   "outputs": [],
   "source": [
    "opd.od_parameters.adaptive=1\n",
    "opd.od_parameters.linear=1\n",
    "opd.od_parameters.fixed=1"
   ]
  },
  {
   "cell_type": "markdown",
   "metadata": {},
   "source": [
    "We are now all set up call the routine to calculate the JDOS."
   ]
  },
  {
   "cell_type": "code",
   "execution_count": 12,
   "metadata": {
    "collapsed": false
   },
   "outputs": [],
   "source": [
    "opd.od_jdos.jdos_calculate() # Calculate the JDOS\n",
    "#opd.od_jdos_utils.jdos_utils_calculate() # Somthing odd about optional arguments."
   ]
  },
  {
   "cell_type": "code",
   "execution_count": 13,
   "metadata": {
    "collapsed": false
   },
   "outputs": [
    {
     "data": {
      "image/png": "[encoded data removed]",
      "text/plain": [
       "<matplotlib.figure.Figure at 0x10c675050>"
      ]
     },
     "metadata": {},
     "output_type": "display_data"
    }
   ],
   "source": [
    "plt.plot(opd.od_jdos_utils.e[0:2000],opd.od_jdos_utils.jdos_fixed[0:2000],color='red');\n",
    "plt.plot(opd.od_jdos_utils.e[0:2000],opd.od_jdos_utils.jdos_linear[0:2000],color='blue',linestyle=\"dashed\");"
   ]
  },
  {
   "cell_type": "code",
   "execution_count": null,
   "metadata": {
    "collapsed": true
   },
   "outputs": [],
   "source": []
  }
 ],
 "metadata": {
  "kernelspec": {
   "display_name": "Python 2",
   "language": "python",
   "name": "python2"
  },
  "language_info": {
   "codemirror_mode": {
    "name": "ipython",
    "version": 2
   },
   "file_extension": ".py",
   "mimetype": "text/x-python",
   "name": "python",
   "nbconvert_exporter": "python",
   "pygments_lexer": "ipython2",
   "version": "2.7.10"
  }
 },
 "nbformat": 4,
 "nbformat_minor": 0
}
