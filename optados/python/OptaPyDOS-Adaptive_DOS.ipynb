{
 "cells": [
  {
   "cell_type": "markdown",
   "metadata": {},
   "source": [
    "OptaPyDOS example - Density of States of Silicon\n",
    "==========================\n",
    "From those great kids that brought you OptaDOS and J. Kermode, a gentleman.\n",
    "\n",
    "Prerequisites:\n",
    "\n",
    "* OptaDOS complied using gfortran. `make`\n",
    "* OptaPyDOS python libraries. `make python`\n",
    "* CASTEP run in optados/eaxmples/Si2_DOS. `castep Si2`\n",
    "* OptaPyDOS_Tools which should be found in `optados/python`"
   ]
  },
  {
   "cell_type": "code",
   "execution_count": 3,
   "metadata": {
    "collapsed": false
   },
   "outputs": [],
   "source": [
    "import os\n",
    "os.environ['GFORTRAN_CONVERT_UNIT'] = 'big_endian' # Must do this BEOFRE invoking OptaPyDOS\n",
    "%matplotlib inline\n",
    "import OptaPyDOS as opd        # OptaPyDOS Low level functions\n",
    "import OptaPyDOS_Tools as opdt # OptaPyDOS wrapper scripts\n",
    "import matplotlib.pyplot as plt\n",
    "import numpy as np"
   ]
  },
  {
   "cell_type": "markdown",
   "metadata": {},
   "source": [
    "Let's do something obvious and check that both modules are set up ok."
   ]
  },
  {
   "cell_type": "code",
   "execution_count": 4,
   "metadata": {
    "collapsed": false
   },
   "outputs": [
    {
     "name": "stdout",
     "output_type": "stream",
     "text": [
      " OptaDOS version:  1.2  \n",
      " OptaPyDOS Tools version: 1.0\n"
     ]
    }
   ],
   "source": [
    "print \" OptaDOS version:\", opd.od_constants.optados_version\n",
    "print \" OptaPyDOS Tools version:\", opdt.od_OptaPyDOS_tools_version"
   ]
  },
  {
   "cell_type": "markdown",
   "metadata": {},
   "source": [
    "If you managed two get to version numbers printed out above then you have `opd` and `opdt` working. Now lets read in an `odi` file using `od_setup_from_file` is a function to initilaise OptaPyDOS"
   ]
  },
  {
   "cell_type": "code",
   "execution_count": 5,
   "metadata": {
    "collapsed": false
   },
   "outputs": [
    {
     "name": "stdout",
     "output_type": "stream",
     "text": [
      " OptaPyDOS Tools -- Setup Calculation from Seedname\n",
      " Seedname: ../examples/Si2_DOS/Si2                           \n"
     ]
    }
   ],
   "source": [
    "opdt.od_setup_from_file('../examples/Si2_DOS/Si2')"
   ]
  },
  {
   "cell_type": "markdown",
   "metadata": {},
   "source": [
    "One may then tweak the input parameters."
   ]
  },
  {
   "cell_type": "code",
   "execution_count": 6,
   "metadata": {
    "collapsed": false
   },
   "outputs": [],
   "source": [
    "opd.od_parameters.dos_spacing=0.1"
   ]
  },
  {
   "cell_type": "markdown",
   "metadata": {},
   "source": [
    "We might as well do all three types of smearing"
   ]
  },
  {
   "cell_type": "code",
   "execution_count": 7,
   "metadata": {
    "collapsed": false
   },
   "outputs": [],
   "source": [
    "opd.od_parameters.adaptive=1\n",
    "opd.od_parameters.linear=1\n",
    "opd.od_parameters.fixed=1"
   ]
  },
  {
   "cell_type": "markdown",
   "metadata": {},
   "source": [
    "We are now all set up call the routine to calculate the DOS."
   ]
  },
  {
   "cell_type": "code",
   "execution_count": 8,
   "metadata": {
    "collapsed": false
   },
   "outputs": [],
   "source": [
    "opd.od_dos_utils.dos_utils_calculate() # Calculate the DOS"
   ]
  },
  {
   "cell_type": "code",
   "execution_count": 11,
   "metadata": {
    "collapsed": false
   },
   "outputs": [],
   "source": [
    "chemical_potential = opdt.od_set_efermi() # Get the Fermi level, and set the energy scale opd.od_dos_utils.e"
   ]
  },
  {
   "cell_type": "code",
   "execution_count": 12,
   "metadata": {
    "collapsed": false
   },
   "outputs": [
    {
     "data": {
      "text/plain": [
       "<matplotlib.lines.Line2D at 0x1042c0690>"
      ]
     },
     "execution_count": 12,
     "metadata": {},
     "output_type": "execute_result"
    },
    {
     "data": {
      "image/png": "[encoded data removed]",
      "text/plain": [
       "<matplotlib.figure.Figure at 0x103e40690>"
      ]
     },
     "metadata": {},
     "output_type": "display_data"
    }
   ],
   "source": [
    "plt.plot(opd.od_dos_utils.e[0:200],opd.od_dos_utils.dos_fixed[0:200],color='red');\n",
    "plt.plot(opd.od_dos_utils.e[0:200],opd.od_dos_utils.dos_linear[0:200],color='blue',linestyle=\"dashed\");\n",
    "plt.axvline(x=chemical_potential, ymin=0.0, ymax =1.0, linewidth=2,color='black',linestyle=\"dotted\")"
   ]
  },
  {
   "cell_type": "code",
   "execution_count": null,
   "metadata": {
    "collapsed": true
   },
   "outputs": [],
   "source": []
  }
 ],
 "metadata": {
  "kernelspec": {
   "display_name": "Python 2",
   "language": "python",
   "name": "python2"
  },
  "language_info": {
   "codemirror_mode": {
    "name": "ipython",
    "version": 2
   },
   "file_extension": ".py",
   "mimetype": "text/x-python",
   "name": "python",
   "nbconvert_exporter": "python",
   "pygments_lexer": "ipython2",
   "version": "2.7.10"
  }
 },
 "nbformat": 4,
 "nbformat_minor": 0
}
